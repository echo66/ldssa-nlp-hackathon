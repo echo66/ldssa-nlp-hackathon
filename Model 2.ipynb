{
 "cells": [
  {
   "cell_type": "code",
   "execution_count": 1,
   "metadata": {},
   "outputs": [
    {
     "name": "stderr",
     "output_type": "stream",
     "text": [
      "/home/echo66/.local/share/virtualenvs/ldssa-nlp-Yrltft6c/lib64/python3.6/importlib/_bootstrap.py:219: RuntimeWarning: numpy.dtype size changed, may indicate binary incompatibility. Expected 96, got 88\n",
      "  return f(*args, **kwds)\n",
      "/home/echo66/.local/share/virtualenvs/ldssa-nlp-Yrltft6c/lib64/python3.6/importlib/_bootstrap.py:219: RuntimeWarning: numpy.dtype size changed, may indicate binary incompatibility. Expected 96, got 88\n",
      "  return f(*args, **kwds)\n"
     ]
    }
   ],
   "source": [
    "from cleaner import TextCleanerTransformer\n",
    "\n",
    "from sklearn.feature_extraction.text import CountVectorizer\n",
    "from sklearn.feature_extraction.text import TfidfTransformer\n",
    "from sklearn.feature_extraction.text import TfidfVectorizer\n",
    "from sklearn.naive_bayes import MultinomialNB\n",
    "from sklearn.svm import LinearSVC\n",
    "from sklearn.model_selection import train_test_split\n",
    "from sklearn.model_selection import GridSearchCV\n",
    "from sklearn.preprocessing import LabelEncoder\n",
    "from sklearn.pipeline import Pipeline\n",
    "from sklearn.metrics import accuracy_score\n",
    "from sklearn.metrics import roc_auc_score\n",
    "\n",
    "from nltk.tokenize import WordPunctTokenizer\n",
    "from nltk.stem.snowball import SnowballStemmer\n",
    "from nltk.corpus import stopwords\n",
    "\n",
    "import pandas as pd\n",
    "import numpy as np\n",
    "\n",
    "import re"
   ]
  },
  {
   "cell_type": "code",
   "execution_count": 2,
   "metadata": {},
   "outputs": [],
   "source": [
    "all_train = pd.read_csv('data/train.csv')\n",
    "\n",
    "all_train.dropna(inplace=True)\n",
    "\n",
    "le = LabelEncoder()\n",
    "\n",
    "le.fit(all_train['Label'].values)\n",
    "\n",
    "all_train.Label = le.transform(all_train['Label'].values)\n",
    "\n",
    "train, test = train_test_split(all_train, test_size=0.3, random_state=10, shuffle=True)"
   ]
  },
  {
   "cell_type": "code",
   "execution_count": 3,
   "metadata": {},
   "outputs": [],
   "source": [
    "text_clf = Pipeline([\n",
    "    ('stemm', TextCleanerTransformer(\n",
    "        WordPunctTokenizer(), \n",
    "        SnowballStemmer(\"portuguese\", ignore_stopwords=True), \n",
    "        [])),\n",
    "    ('tfidf', TfidfVectorizer(strip_accents='unicode', lowercase=True)), \n",
    "    ('clf', LinearSVC(random_state=10))\n",
    "])\n",
    "\n",
    "#text_clf.fit(map(str, train['Request'].values), train['Label'].values)"
   ]
  },
  {
   "cell_type": "code",
   "execution_count": 4,
   "metadata": {},
   "outputs": [],
   "source": [
    "fit_params = {\n",
    "    'tfidf__norm': [None, 'l1', 'l2'], \n",
    "    #'tfidf__use_idf': [False, True], \n",
    "    #'tfidf__smooth_idf': [False, True], \n",
    "    #'tfidf__sublinear_tf': [False, True], \n",
    "    'tfidf__ngram_range': [\n",
    "        (1, 1), \n",
    "        (1, 2), \n",
    "        (1, 3), \n",
    "        (2, 2), \n",
    "        (2, 3)\n",
    "    ], \n",
    "    'tfidf__max_features': [50, 100, 1000, 10000, 50000], \n",
    "    'clf__C': [1e-3, 1e-2, 1e-1, 1, 10], \n",
    "    'clf__penalty': ['l2']\n",
    "}"
   ]
  },
  {
   "cell_type": "code",
   "execution_count": 5,
   "metadata": {},
   "outputs": [],
   "source": [
    "gcv = GridSearchCV(text_clf, fit_params, \n",
    "                   scoring='accuracy', \n",
    "                   cv=3, verbose=True, \n",
    "                   n_jobs=-1)"
   ]
  },
  {
   "cell_type": "code",
   "execution_count": 6,
   "metadata": {},
   "outputs": [
    {
     "name": "stdout",
     "output_type": "stream",
     "text": [
      "Fitting 3 folds for each of 375 candidates, totalling 1125 fits\n"
     ]
    },
    {
     "name": "stderr",
     "output_type": "stream",
     "text": [
      "[Parallel(n_jobs=-1)]: Done  34 tasks      | elapsed:  1.2min\n",
      "[Parallel(n_jobs=-1)]: Done 184 tasks      | elapsed:  5.6min\n",
      "[Parallel(n_jobs=-1)]: Done 434 tasks      | elapsed: 13.0min\n",
      "[Parallel(n_jobs=-1)]: Done 784 tasks      | elapsed: 24.2min\n",
      "[Parallel(n_jobs=-1)]: Done 1125 out of 1125 | elapsed: 36.3min finished\n"
     ]
    },
    {
     "data": {
      "text/plain": [
       "GridSearchCV(cv=3, error_score='raise',\n",
       "       estimator=Pipeline(memory=None,\n",
       "     steps=[('stemm', TextCleanerTransformer(lower=True, regex_list=[], remove_punct=True,\n",
       "            stemmer=<nltk.stem.snowball.SnowballStemmer object at 0x7f4a51265a90>,\n",
       "            tokenizer=WordPunctTokenizer(pattern='\\\\w+|[^\\\\w\\\\s]+', gaps=False, discard_empty=True, flags=<RegexFlag.UNICODE|DOTALL... max_iter=1000,\n",
       "     multi_class='ovr', penalty='l2', random_state=10, tol=0.0001,\n",
       "     verbose=0))]),\n",
       "       fit_params=None, iid=True, n_jobs=-1,\n",
       "       param_grid={'tfidf__norm': [None, 'l1', 'l2'], 'tfidf__ngram_range': [(1, 1), (1, 2), (1, 3), (2, 2), (2, 3)], 'tfidf__max_features': [50, 100, 1000, 10000, 50000], 'clf__C': [0.001, 0.01, 0.1, 1, 10], 'clf__penalty': ['l2']},\n",
       "       pre_dispatch='2*n_jobs', refit=True, return_train_score='warn',\n",
       "       scoring='accuracy', verbose=True)"
      ]
     },
     "execution_count": 6,
     "metadata": {},
     "output_type": "execute_result"
    }
   ],
   "source": [
    "gcv.fit(train['Request'], train['Label'].values)"
   ]
  },
  {
   "cell_type": "code",
   "execution_count": 8,
   "metadata": {},
   "outputs": [],
   "source": [
    "#y_proba = gcv.best_estimator_.predict_proba(map(str, test['Request'].values))\n",
    "\n",
    "y_pred = gcv.best_estimator_.predict(map(str, test['Request'].values))"
   ]
  },
  {
   "cell_type": "markdown",
   "metadata": {},
   "source": [
    "from sklearn.metrics import matthews_corrcoef"
   ]
  },
  {
   "cell_type": "code",
   "execution_count": 9,
   "metadata": {},
   "outputs": [
    {
     "name": "stderr",
     "output_type": "stream",
     "text": [
      "/home/echo66/.local/share/virtualenvs/ldssa-nlp-Yrltft6c/lib/python3.6/site-packages/sklearn/preprocessing/label.py:151: DeprecationWarning: The truth value of an empty array is ambiguous. Returning False, but in future this will result in an error. Use `array.size > 0` to check that an array is not empty.\n",
      "  if diff:\n"
     ]
    }
   ],
   "source": [
    "real_test = pd.read_csv('data/test.csv')\n",
    "\n",
    "real_test_y_pred = gcv.best_estimator_.predict(map(str, real_test['Request'].values))\n",
    "\n",
    "real_test['Label'] = le.inverse_transform(real_test_y_pred)\n",
    "\n",
    "real_test.to_csv('submissions/model_2.csv', index=False)"
   ]
  },
  {
   "cell_type": "code",
   "execution_count": 12,
   "metadata": {},
   "outputs": [
    {
     "data": {
      "text/plain": [
       "{'memory': None,\n",
       " 'steps': [('stemm',\n",
       "   TextCleanerTransformer(lower=True, regex_list=[], remove_punct=True,\n",
       "               stemmer=<nltk.stem.snowball.SnowballStemmer object at 0x7f4a5124ffd0>,\n",
       "               tokenizer=WordPunctTokenizer(pattern='\\\\w+|[^\\\\w\\\\s]+', gaps=False, discard_empty=True, flags=<RegexFlag.UNICODE|DOTALL|MULTILINE: 56>))),\n",
       "  ('tfidf',\n",
       "   TfidfVectorizer(analyzer='word', binary=False, decode_error='strict',\n",
       "           dtype=<class 'numpy.int64'>, encoding='utf-8', input='content',\n",
       "           lowercase=True, max_df=1.0, max_features=50000, min_df=1,\n",
       "           ngram_range=(1, 3), norm='l2', preprocessor=None, smooth_idf=True,\n",
       "           stop_words=None, strip_accents='unicode', sublinear_tf=False,\n",
       "           token_pattern='(?u)\\\\b\\\\w\\\\w+\\\\b', tokenizer=None, use_idf=True,\n",
       "           vocabulary=None)),\n",
       "  ('clf', LinearSVC(C=1, class_weight=None, dual=True, fit_intercept=True,\n",
       "        intercept_scaling=1, loss='squared_hinge', max_iter=1000,\n",
       "        multi_class='ovr', penalty='l2', random_state=10, tol=0.0001,\n",
       "        verbose=0))],\n",
       " 'stemm': TextCleanerTransformer(lower=True, regex_list=[], remove_punct=True,\n",
       "             stemmer=<nltk.stem.snowball.SnowballStemmer object at 0x7f4a5124ffd0>,\n",
       "             tokenizer=WordPunctTokenizer(pattern='\\\\w+|[^\\\\w\\\\s]+', gaps=False, discard_empty=True, flags=<RegexFlag.UNICODE|DOTALL|MULTILINE: 56>)),\n",
       " 'tfidf': TfidfVectorizer(analyzer='word', binary=False, decode_error='strict',\n",
       "         dtype=<class 'numpy.int64'>, encoding='utf-8', input='content',\n",
       "         lowercase=True, max_df=1.0, max_features=50000, min_df=1,\n",
       "         ngram_range=(1, 3), norm='l2', preprocessor=None, smooth_idf=True,\n",
       "         stop_words=None, strip_accents='unicode', sublinear_tf=False,\n",
       "         token_pattern='(?u)\\\\b\\\\w\\\\w+\\\\b', tokenizer=None, use_idf=True,\n",
       "         vocabulary=None),\n",
       " 'clf': LinearSVC(C=1, class_weight=None, dual=True, fit_intercept=True,\n",
       "      intercept_scaling=1, loss='squared_hinge', max_iter=1000,\n",
       "      multi_class='ovr', penalty='l2', random_state=10, tol=0.0001,\n",
       "      verbose=0),\n",
       " 'stemm__lower': True,\n",
       " 'stemm__regex_list': [],\n",
       " 'stemm__remove_punct': True,\n",
       " 'stemm__stemmer': <nltk.stem.snowball.SnowballStemmer at 0x7f4a5124ffd0>,\n",
       " 'stemm__tokenizer': WordPunctTokenizer(pattern='\\\\w+|[^\\\\w\\\\s]+', gaps=False, discard_empty=True, flags=<RegexFlag.UNICODE|DOTALL|MULTILINE: 56>),\n",
       " 'tfidf__analyzer': 'word',\n",
       " 'tfidf__binary': False,\n",
       " 'tfidf__decode_error': 'strict',\n",
       " 'tfidf__dtype': numpy.int64,\n",
       " 'tfidf__encoding': 'utf-8',\n",
       " 'tfidf__input': 'content',\n",
       " 'tfidf__lowercase': True,\n",
       " 'tfidf__max_df': 1.0,\n",
       " 'tfidf__max_features': 50000,\n",
       " 'tfidf__min_df': 1,\n",
       " 'tfidf__ngram_range': (1, 3),\n",
       " 'tfidf__norm': 'l2',\n",
       " 'tfidf__preprocessor': None,\n",
       " 'tfidf__smooth_idf': True,\n",
       " 'tfidf__stop_words': None,\n",
       " 'tfidf__strip_accents': 'unicode',\n",
       " 'tfidf__sublinear_tf': False,\n",
       " 'tfidf__token_pattern': '(?u)\\\\b\\\\w\\\\w+\\\\b',\n",
       " 'tfidf__tokenizer': None,\n",
       " 'tfidf__use_idf': True,\n",
       " 'tfidf__vocabulary': None,\n",
       " 'clf__C': 1,\n",
       " 'clf__class_weight': None,\n",
       " 'clf__dual': True,\n",
       " 'clf__fit_intercept': True,\n",
       " 'clf__intercept_scaling': 1,\n",
       " 'clf__loss': 'squared_hinge',\n",
       " 'clf__max_iter': 1000,\n",
       " 'clf__multi_class': 'ovr',\n",
       " 'clf__penalty': 'l2',\n",
       " 'clf__random_state': 10,\n",
       " 'clf__tol': 0.0001,\n",
       " 'clf__verbose': 0}"
      ]
     },
     "execution_count": 12,
     "metadata": {},
     "output_type": "execute_result"
    }
   ],
   "source": [
    "gcv.best_estimator_.get_params()"
   ]
  },
  {
   "cell_type": "code",
   "execution_count": null,
   "metadata": {},
   "outputs": [],
   "source": []
  }
 ],
 "metadata": {
  "kernelspec": {
   "display_name": "Python 3",
   "language": "python",
   "name": "python3"
  },
  "language_info": {
   "codemirror_mode": {
    "name": "ipython",
    "version": 3
   },
   "file_extension": ".py",
   "mimetype": "text/x-python",
   "name": "python",
   "nbconvert_exporter": "python",
   "pygments_lexer": "ipython3",
   "version": "3.6.6"
  }
 },
 "nbformat": 4,
 "nbformat_minor": 2
}
