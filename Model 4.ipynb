{
 "cells": [
  {
   "cell_type": "code",
   "execution_count": null,
   "metadata": {},
   "outputs": [],
   "source": [
    "%load_ext autoreload\n",
    "%autoreload 2"
   ]
  },
  {
   "cell_type": "code",
   "execution_count": null,
   "metadata": {},
   "outputs": [],
   "source": [
    "from cleaner import TextCleanerTransformer\n",
    "\n",
    "from sklearn.feature_extraction.text import CountVectorizer\n",
    "from sklearn.feature_extraction.text import TfidfTransformer\n",
    "from sklearn.feature_extraction.text import TfidfVectorizer\n",
    "from sklearn.naive_bayes import MultinomialNB\n",
    "from sklearn.svm import LinearSVC, NuSVC\n",
    "from sklearn.ensemble import ExtraTreesClassifier\n",
    "from sklearn.model_selection import train_test_split\n",
    "from sklearn.model_selection import GridSearchCV\n",
    "from sklearn.preprocessing import LabelEncoder\n",
    "from sklearn.pipeline import Pipeline\n",
    "from sklearn.metrics import accuracy_score\n",
    "from sklearn.metrics import roc_auc_score\n",
    "\n",
    "from skopt import BayesSearchCV\n",
    "from skopt.space import Real, Categorical, Integer\n",
    "\n",
    "from nltk.tokenize import WordPunctTokenizer\n",
    "from nltk.stem.snowball import SnowballStemmer\n",
    "from nltk.corpus import stopwords\n",
    "\n",
    "from transformers import AutomatedTruncatedSVD\n",
    "\n",
    "import pandas as pd\n",
    "import numpy as np\n",
    "\n",
    "import re"
   ]
  },
  {
   "cell_type": "code",
   "execution_count": null,
   "metadata": {},
   "outputs": [],
   "source": [
    "all_train = pd.read_csv('data/train.csv')\n",
    "\n",
    "all_train.dropna(inplace=True)\n",
    "\n",
    "le = LabelEncoder()\n",
    "\n",
    "le.fit(all_train['Label'].values)\n",
    "\n",
    "all_train.Label = le.transform(all_train['Label'].values)\n",
    "\n",
    "train, test = train_test_split(all_train, test_size=0.3, random_state=10, shuffle=True)"
   ]
  },
  {
   "cell_type": "markdown",
   "metadata": {},
   "source": [
    "text_preprocessing = Pipeline([\n",
    "    ('stemm', TextCleanerTransformer(\n",
    "        WordPunctTokenizer(), \n",
    "        SnowballStemmer(\"portuguese\", ignore_stopwords=True), \n",
    "        [])),\n",
    "    ('tfidf', TfidfVectorizer(strip_accents='unicode', lowercase=True)), \n",
    "    ('svd', AutomatedTruncatedSVD(variance_threshold=0.9, random_state=10, incr=2000))\n",
    "])"
   ]
  },
  {
   "cell_type": "markdown",
   "metadata": {},
   "source": [
    "text_preprocessing.fit(train['Request'], train['Label'].values)"
   ]
  },
  {
   "cell_type": "code",
   "execution_count": null,
   "metadata": {},
   "outputs": [],
   "source": [
    "import pickle"
   ]
  },
  {
   "cell_type": "markdown",
   "metadata": {},
   "source": [
    "with open(\"text_processing_model_3.pkl\", \"wb\") as fd:\n",
    "    pickle.dump(text_preprocessing, fd)"
   ]
  },
  {
   "cell_type": "code",
   "execution_count": null,
   "metadata": {},
   "outputs": [],
   "source": [
    "with open(\"text_processing_model_3.pkl\", \"rb\") as fd:\n",
    "    text_preprocessing = pickle.load(fd)"
   ]
  },
  {
   "cell_type": "code",
   "execution_count": null,
   "metadata": {},
   "outputs": [],
   "source": [
    "X_train, y_train = text_preprocessing.transform(train['Request']), train['Label']"
   ]
  },
  {
   "cell_type": "code",
   "execution_count": null,
   "metadata": {},
   "outputs": [],
   "source": [
    "clf = LinearSVC(random_state=10)"
   ]
  },
  {
   "cell_type": "markdown",
   "metadata": {},
   "source": [
    "clf.fit(X_train, y_train)"
   ]
  },
  {
   "cell_type": "code",
   "execution_count": null,
   "metadata": {},
   "outputs": [],
   "source": [
    "params = {\n",
    "    'penalty': Categorical(['l2']), \n",
    "    'loss': Categorical(['squared_hinge']), \n",
    "    'dual': Categorical([False]),\n",
    "    'tol': Real(1e-8, 1e-2, prior='log-uniform'), \n",
    "    'C': Real(1e-3, 10, prior='log-uniform'), \n",
    "    'max_iter': Integer(100, 2000), \n",
    "    'fit_intercept': Categorical([False, True])\n",
    "}"
   ]
  },
  {
   "cell_type": "code",
   "execution_count": null,
   "metadata": {},
   "outputs": [],
   "source": [
    "bscv = BayesSearchCV(clf, params, scoring='accuracy', random_state=10, verbose=True, n_jobs=-1, n_iter=50, cv=3)"
   ]
  },
  {
   "cell_type": "code",
   "execution_count": null,
   "metadata": {},
   "outputs": [],
   "source": [
    "bscv.fit(X_train, y_train)"
   ]
  },
  {
   "cell_type": "code",
   "execution_count": null,
   "metadata": {},
   "outputs": [],
   "source": [
    "real_test = pd.read_csv('data/test.csv')\n",
    "\n",
    "X_test = text_preprocessing.transform(real_test['Request'])\n",
    "\n",
    "real_test_y_pred = gcv.best_estimator_.predict(X_test)\n",
    "\n",
    "real_test['Label'] = le.inverse_transform(real_test_y_pred)\n",
    "\n",
    "real_test.to_csv('submissions/model_3.csv', index=False)"
   ]
  }
 ],
 "metadata": {
  "kernelspec": {
   "display_name": "Python 3",
   "language": "python",
   "name": "python3"
  },
  "language_info": {
   "codemirror_mode": {
    "name": "ipython",
    "version": 3
   },
   "file_extension": ".py",
   "mimetype": "text/x-python",
   "name": "python",
   "nbconvert_exporter": "python",
   "pygments_lexer": "ipython3",
   "version": "3.6.6"
  }
 },
 "nbformat": 4,
 "nbformat_minor": 2
}
